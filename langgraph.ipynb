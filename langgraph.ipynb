{
 "cells": [
  {
   "cell_type": "markdown",
   "metadata": {},
   "source": [
    "# LangGraph-Learning"
   ]
  },
  {
   "cell_type": "markdown",
   "metadata": {},
   "source": [
    "## 0. 初始化"
   ]
  },
  {
   "cell_type": "code",
   "execution_count": 1,
   "metadata": {},
   "outputs": [
    {
     "data": {
      "text/plain": [
       "True"
      ]
     },
     "execution_count": 1,
     "metadata": {},
     "output_type": "execute_result"
    }
   ],
   "source": [
    "# 少包的时候打开下面安装\n",
    "# %pip install langgraph==0.2.62 langsmith==0.2.10 langchain-openai==0.3.0 langchain_community==0.3.14 langchain_experimental==0.3.4\n",
    "import os\n",
    "from dotenv import load_dotenv\n",
    "load_dotenv()"
   ]
  },
  {
   "cell_type": "markdown",
   "metadata": {},
   "source": [
    "## 1. 聊天机器人\n",
    "[官方文档](https://langchain-ai.github.io/langgraph/tutorials/introduction/)"
   ]
  },
  {
   "cell_type": "markdown",
   "metadata": {},
   "source": [
    "### 1.1 简单机器人"
   ]
  },
  {
   "cell_type": "code",
   "execution_count": 85,
   "metadata": {},
   "outputs": [
    {
     "data": {
      "image/png": "[encoded data removed]",
      "text/plain": [
       "<IPython.core.display.Image object>"
      ]
     },
     "metadata": {},
     "output_type": "display_data"
    },
    {
     "name": "stdout",
     "output_type": "stream",
     "text": [
      "User: 1\n",
      "AI: Hello! How can I assist you today?\n",
      "[HumanMessage(content='1', additional_kwargs={}, response_metadata={}, id='ea5c5e47-e493-4181-8352-16ca0f45da99'), AIMessage(content='Hello! How can I assist you today?', additional_kwargs={'refusal': None}, response_metadata={'token_usage': {'completion_tokens': 9, 'prompt_tokens': 8, 'total_tokens': 17, 'completion_tokens_details': None, 'prompt_tokens_details': None}, 'model_name': 'gpt-4o-2024-08-06', 'system_fingerprint': 'fp_04751d0b65', 'finish_reason': 'stop', 'logprobs': None}, id='run-e2887ca6-af64-4786-9faa-37fc6f33c5b7-0', usage_metadata={'input_tokens': 8, 'output_tokens': 9, 'total_tokens': 17, 'input_token_details': {}, 'output_token_details': {}})]\n",
      "AI: test_print\n",
      "User: q\n"
     ]
    }
   ],
   "source": [
    "from langchain_openai import ChatOpenAI\n",
    "from langgraph.graph import StateGraph, START, END\n",
    "from typing_extensions import TypedDict\n",
    "from typing import Annotated\n",
    "from langgraph.graph.message import add_messages\n",
    "from langchain_core.messages import HumanMessage,  AIMessage\n",
    "from IPython.display import display, Image\n",
    "import traceback\n",
    "\n",
    "\n",
    "class State(TypedDict):\n",
    "    messages: Annotated[list, add_messages] # Annotated将 add_messages 方法放到元数据中,  State.__annotations__['message'].__metadata__ 可以获得这个方法\n",
    "\n",
    "\n",
    "graph_builder = StateGraph(State)\n",
    "llm = ChatOpenAI(\n",
    "    # model='gpt-4o-mini', \n",
    "    model='gpt-4o-2024-08-06', \n",
    "    api_key=os.environ['API_KEY'], \n",
    "    base_url=f\"{os.environ['BASE_URL']}/v1\"\n",
    ")\n",
    "\n",
    "def chatbot(state: State):\n",
    "    return {\"messages\": [llm.invoke(state['messages'])]}\n",
    "\n",
    "def test_print(state: State):\n",
    "    print(state['messages'])      # 发现state只会保留当前一轮的对话信息\n",
    "    return {\"messages\": [HumanMessage(\"test_print\")]} \n",
    "\n",
    "graph_builder.add_node(\"chatbot\", chatbot) # add_node 用于注册节点\n",
    "graph_builder.add_node(\"test_print\", test_print)\n",
    "graph_builder.add_edge(START, \"chatbot\")   # add_edge 用于组合图\n",
    "graph_builder.add_edge(\"chatbot\", \"test_print\")\n",
    "graph_builder.add_edge(\"test_print\", END)\n",
    "graph = graph_builder.compile()\n",
    "display(Image(graph.get_graph().draw_mermaid_png()))\n",
    "\n",
    "def stream_graph_updates(user_input: str):\n",
    "    for event in graph.stream({\"messages\": [(\"user\", user_input)]}): # 每个node都会有一个event\n",
    "        for value in event.values():\n",
    "            print(\"AI:\", value['messages'][-1].content)\n",
    "\n",
    "while True:\n",
    "    try:\n",
    "        user_input = input(\"User: \")\n",
    "        print(\"User: \" + user_input)\n",
    "        if user_input.lower() in ['quit', 'q']:\n",
    "            break\n",
    "        stream_graph_updates(user_input)\n",
    "    except Exception as e:\n",
    "        traceback.print_exc()\n",
    "        break\n"
   ]
  },
  {
   "cell_type": "markdown",
   "metadata": {},
   "source": [
    "### 1.2 工具调用机器人"
   ]
  },
  {
   "cell_type": "code",
   "execution_count": null,
   "metadata": {},
   "outputs": [
    {
     "name": "stdout",
     "output_type": "stream",
     "text": [
      "工具测试\n",
      "\n"
     ]
    },
    {
     "data": {
      "image/png": "[encoded data removed]",
      "text/plain": [
       "<IPython.core.display.Image object>"
      ]
     },
     "metadata": {},
     "output_type": "display_data"
    },
    {
     "name": "stdout",
     "output_type": "stream",
     "text": [
      "User: 用python帮我计算 1+1, 记得使用print输出结果\n",
      "{'chatbot': {'messages': [AIMessage(content='', additional_kwargs={'tool_calls': [{'id': 'call_DginOkcKQMed3h6FX5Rropbd', 'function': {'arguments': '{\"__arg1\":\"print(1+1)\"}', 'name': 'python_repl'}, 'type': 'function'}], 'refusal': None}, response_metadata={'token_usage': {'completion_tokens': 22, 'prompt_tokens': 102, 'total_tokens': 124, 'completion_tokens_details': {'accepted_prediction_tokens': 0, 'audio_tokens': 0, 'reasoning_tokens': 0, 'rejected_prediction_tokens': 0}, 'prompt_tokens_details': {'audio_tokens': 0, 'cached_tokens': 0}}, 'model_name': 'gpt-4o-2024-08-06', 'system_fingerprint': 'fp_f3927aa00d', 'finish_reason': 'tool_calls', 'logprobs': None}, id='run-b27ae12e-b0d4-4c92-ac88-15627465135f-0', tool_calls=[{'name': 'python_repl', 'args': {'__arg1': 'print(1+1)'}, 'id': 'call_DginOkcKQMed3h6FX5Rropbd', 'type': 'tool_call'}], usage_metadata={'input_tokens': 102, 'output_tokens': 22, 'total_tokens': 124, 'input_token_details': {'audio': 0, 'cache_read': 0}, 'output_token_details': {'audio': 0, 'reasoning': 0}})]}}\n",
      "AI: \n",
      "{'tools': {'messages': [ToolMessage(content='2\\n', name='python_repl', id='2fc8c02d-ddff-4a50-95a0-eab2de96593f', tool_call_id='call_DginOkcKQMed3h6FX5Rropbd')]}}\n",
      "AI: 2\n",
      "\n",
      "{'chatbot': {'messages': [AIMessage(content='计算结果是 2。', additional_kwargs={'refusal': None}, response_metadata={'token_usage': {'completion_tokens': 7, 'prompt_tokens': 135, 'total_tokens': 142, 'completion_tokens_details': {'accepted_prediction_tokens': 0, 'audio_tokens': 0, 'reasoning_tokens': 0, 'rejected_prediction_tokens': 0}, 'prompt_tokens_details': {'audio_tokens': 0, 'cached_tokens': 0}}, 'model_name': 'gpt-4o-2024-08-06', 'system_fingerprint': 'fp_f3927aa00d', 'finish_reason': 'stop', 'logprobs': None}, id='run-fb223cd6-0786-4eac-97fb-1447e9031324-0', usage_metadata={'input_tokens': 135, 'output_tokens': 7, 'total_tokens': 142, 'input_token_details': {'audio': 0, 'cache_read': 0}, 'output_token_details': {'audio': 0, 'reasoning': 0}})]}}\n",
      "AI: 计算结果是 2。\n",
      "User: q\n"
     ]
    }
   ],
   "source": [
    "from langchain_openai import ChatOpenAI\n",
    "from langgraph.graph import StateGraph, START, END\n",
    "from typing_extensions import TypedDict\n",
    "from typing import Annotated\n",
    "from langgraph.graph.message import add_messages\n",
    "from langchain_core.messages import HumanMessage,  AIMessage\n",
    "from IPython.display import display, Image\n",
    "import traceback\n",
    "from langchain_experimental.utilities import PythonREPL\n",
    "from langchain_core.tools import Tool\n",
    "from langchain_core.messages import ToolMessage\n",
    "import json\n",
    "from langgraph.prebuilt import ToolNode, tools_condition # 对于工具的封装\n",
    "\n",
    "\n",
    "\n",
    "python_repl = PythonREPL()\n",
    "tool = Tool(\n",
    "    name=\"python_repl\",\n",
    "    description=\"A Python shell. Use this to execute python commands. Input should be a valid python command. If you want to see the output of a value, you should print it out with `print(...)`.\",\n",
    "    func=python_repl.run,\n",
    ")\n",
    "result = tool.invoke(\"print('工具测试')\")   # 工具调用测试\n",
    "print(result)\n",
    "\n",
    "\n",
    "class State(TypedDict):\n",
    "    messages: Annotated[list, add_messages]   # messages 不要写错 而且跟下面要对齐\n",
    "\n",
    "\n",
    "graph_builder = StateGraph(State)\n",
    "llm = ChatOpenAI(\n",
    "    model='gpt-4o-2024-08-06', \n",
    "    api_key=os.environ['API_KEY'], \n",
    "    base_url=f\"{os.environ['BASE_URL']}/v1\"\n",
    ")\n",
    "\n",
    "llm_with_tools = llm.bind_tools([tool])     # 这里使用openai内置的tools调用功能, 绑定了tools, 他会自己判断使用哪个tool\n",
    "\n",
    "def chat_bot(state: State):\n",
    "    return {\"messages\": [llm_with_tools.invoke(state['messages'])]}\n",
    "\n",
    "graph_builder.add_node(\"chatbot\", chat_bot)\n",
    "\n",
    "\"\"\" 使用langchain封装的工具类型, 从这里开始注释\n",
    "class BasicToolsNode:    # 用于解释工具的具体实现, 实际开发不需要自己实现\n",
    "    \n",
    "    def __init__(self, tools: list):\n",
    "        self.tools_by_name = {tool.name: tool for tool in tools}\n",
    "        \n",
    "    def __call__(self, input: dict) -> dict:\n",
    "        if messages := input.get(\"messages\", []):    \n",
    "            message = messages[-1]\n",
    "        else:\n",
    "            raise Exception(\"no message\")\n",
    "        outputs = []\n",
    "        for tool_call in message.tool_calls:   \n",
    "            # 触发工具调用, llm会返回以下结构, 这是工具调用的基础\n",
    "            # AIMessage(content='', additional_kwargs={'tool_calls': [{'id': 'call_pYXVVVSZUb8oLpe5FW3oe3rJ', 'function': {'arguments': '{\"__arg1\":\"1 + 1\"}', 'name': 'python_repl'}, 'type': 'function'}], 'refusal': None}, response_metadata={'token_usage': {'completion_tokens': 20, 'prompt_tokens': 94, 'total_tokens': 114, 'completion_tokens_details': {'accepted_prediction_tokens': 0, 'audio_tokens': 0, 'reasoning_tokens': 0, 'rejected_prediction_tokens': 0}, 'prompt_tokens_details': {'audio_tokens': 0, 'cached_tokens': 0}}, 'model_name': 'gpt-4o-2024-08-06', 'system_fingerprint': 'fp_f3927aa00d', 'finish_reason': 'tool_calls', 'logprobs': None}, id='run-296523b1-9710-4a3c-bc60-666f3710ffb1-0', tool_calls=[{'name': 'python_repl', 'args': {'__arg1': '1 + 1'}, 'id': 'call_pYXVVVSZUb8oLpe5FW3oe3rJ', 'type': 'tool_call'}], usage_metadata={'input_tokens': 94, 'output_tokens': 20, 'total_tokens': 114, 'input_token_details': {'audio': 0, 'cache_read': 0}, 'output_token_details': {'audio': 0, 'reasoning': 0}})\n",
    "            tool_result = self.tools_by_name[tool_call['name']].invoke(\n",
    "                tool_call['args']\n",
    "            )\n",
    "            outputs.append(\n",
    "                ToolMessage(\n",
    "                    content = json.dumps(tool_result),\n",
    "                    name = tool_call['name'],\n",
    "                    tool_call_id = tool_call['id']\n",
    "                )\n",
    "            )\n",
    "        return {\"messages\": outputs}\n",
    "\n",
    "tool_node = BasicToolsNode([tool])\n",
    "graph_builder.add_node(\"tools\", tool_node)\n",
    "\n",
    "def route_tools(state: State) -> str: \n",
    "    if isinstance(state, list):\n",
    "        ai_message = state[-1]\n",
    "    elif message := state.get(\"messages\", []):\n",
    "        ai_message = message[-1]\n",
    "    if hasattr(ai_message, \"tool_calls\") and len(ai_message.tool_calls) > 0:\n",
    "        return \"tools\"\n",
    "    return END\n",
    "\n",
    "graph_builder.add_conditional_edges(\n",
    "    \"chatbot\",\n",
    "    route_tools,\n",
    "    {\"tools\": \"tools\", END: END}\n",
    ")\n",
    "\"\"\" # 到这里结束\n",
    "#\"\"\" 使用自己实现工具跳转 从这里开始注释\n",
    "tool_node = ToolNode(tools=[tool])\n",
    "graph_builder.add_node(\"tools\", tool_node)\n",
    "graph_builder.add_conditional_edges(\n",
    "    \"chatbot\",\n",
    "    tools_condition,\n",
    ")\n",
    "#\"\"\" # 这里结束\n",
    "\n",
    "graph_builder.add_edge(\"tools\", \"chatbot\")\n",
    "graph_builder.add_edge(START, \"chatbot\")\n",
    "graph = graph_builder.compile()\n",
    "display(Image(graph.get_graph().draw_mermaid_png()))\n",
    "\n",
    "def stream_graph_updates(user_input: str):\n",
    "    for event in graph.stream({\"messages\": [(\"user\", user_input)]}):\n",
    "        print(event)\n",
    "        for value in event.values():\n",
    "            if len(value['messages']) > 0:\n",
    "                print(\"AI:\", value[\"messages\"][-1].content)\n",
    "\n",
    "start = True\n",
    "while True:\n",
    "    try:\n",
    "        if start: \n",
    "            user_input = \"用python帮我计算 1+1, 记得使用print输出结果\"  # 为了方便 第一次写死了\n",
    "            start = False\n",
    "        else: user_input = input(\"User: \") \n",
    "        print(\"User: \" + user_input)\n",
    "        if user_input.lower() in ['quit', 'q']:\n",
    "            break\n",
    "        stream_graph_updates(user_input)\n",
    "    except Exception as e:\n",
    "        traceback.print_exc()\n",
    "        break\n"
   ]
  },
  {
   "cell_type": "code",
   "execution_count": null,
   "metadata": {},
   "outputs": [
    {
     "data": {
      "text/plain": [
       "'{\"3\": 1}'"
      ]
     },
     "execution_count": 10,
     "metadata": {},
     "output_type": "execute_result"
    }
   ],
   "source": []
  }
 ],
 "metadata": {
  "kernelspec": {
   "display_name": "story",
   "language": "python",
   "name": "python3"
  },
  "language_info": {
   "codemirror_mode": {
    "name": "ipython",
    "version": 3
   },
   "file_extension": ".py",
   "mimetype": "text/x-python",
   "name": "python",
   "nbconvert_exporter": "python",
   "pygments_lexer": "ipython3",
   "version": "3.10.12"
  }
 },
 "nbformat": 4,
 "nbformat_minor": 2
}
